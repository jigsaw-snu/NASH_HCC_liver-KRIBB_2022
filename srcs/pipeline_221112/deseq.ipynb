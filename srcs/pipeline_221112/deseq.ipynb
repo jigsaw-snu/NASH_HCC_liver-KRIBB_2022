{
 "cells": [
  {
   "cell_type": "code",
   "execution_count": null,
   "metadata": {},
   "outputs": [],
   "source": []
  }
 ],
 "metadata": {
  "kernelspec": {
   "display_name": "Python 3.8.13 ('bioinfo')",
   "language": "python",
   "name": "python3"
  },
  "language_info": {
   "name": "python",
   "version": "3.8.13"
  },
  "orig_nbformat": 4,
  "vscode": {
   "interpreter": {
    "hash": "5051078dcea43fd7f57e6a5b8282a0c441e8c6958f376b0ed32525a821abf616"
   }
  }
 },
 "nbformat": 4,
 "nbformat_minor": 2
}
